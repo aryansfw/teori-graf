{
 "cells": [
  {
   "cell_type": "markdown",
   "metadata": {},
   "source": [
    "## Importing Used Libraries"
   ]
  },
  {
   "cell_type": "code",
   "execution_count": 1,
   "metadata": {},
   "outputs": [],
   "source": [
    "from collections import defaultdict\n",
    "import heapq"
   ]
  },
  {
   "cell_type": "markdown",
   "metadata": {},
   "source": [
    "## Graph Class"
   ]
  },
  {
   "cell_type": "code",
   "execution_count": 2,
   "metadata": {},
   "outputs": [],
   "source": [
    "class Graph:\n",
    "  def __init__(self):\n",
    "    self.graph = defaultdict(list) # Create empty dictionary that stores lists\n",
    "    self.heuristic = {}\n",
    "\n",
    "  def add_edge(self, u_node, v_node, weight): # Add edge using weighted adjacency list\n",
    "    self.graph[u_node] += [(v_node, weight)]\n",
    "    self.graph[v_node] += [(u_node, weight)]\n",
    "\n",
    "  def add_heuristic(self, node, value): # Add heuristic function value to a node\n",
    "    self.heuristic[node] = value"
   ]
  },
  {
   "cell_type": "markdown",
   "metadata": {},
   "source": [
    "## Helper Functions"
   ]
  },
  {
   "cell_type": "code",
   "execution_count": 3,
   "metadata": {},
   "outputs": [],
   "source": [
    "\n",
    "def find_parent(parent, node):\n",
    "    if parent[node] != node:\n",
    "        parent[node] = find_parent(parent, parent[node])\n",
    "    return parent[node]\n",
    "\n",
    "def union(parent, rank, root_u, root_v):\n",
    "    root_u = find_parent(parent, root_u)\n",
    "    root_v = find_parent(parent, root_v)\n",
    "\n",
    "    if rank[root_u] < rank[root_v]:\n",
    "        parent[root_u] = root_v\n",
    "    elif rank[root_u] > rank [root_v]:\n",
    "        parent[root_v] = root_u\n",
    "    else:\n",
    "        parent[root_v] = root_u\n",
    "        rank[root_u] += 1"
   ]
  },
  {
   "cell_type": "markdown",
   "metadata": {},
   "source": [
    "## Connector Problem Algorithms"
   ]
  },
  {
   "cell_type": "code",
   "execution_count": 4,
   "metadata": {},
   "outputs": [],
   "source": [
    "# Prim's Algorithm\n",
    "def prim(graph, start):\n",
    "    visited = {node: False for node in graph.graph}\n",
    "    min_heap = [(0, -1, start)]\n",
    "    min_cost = 0\n",
    "\n",
    "    min_span_tree = []\n",
    "\n",
    "    while min_heap:\n",
    "        weight, u, v = heapq.heappop(min_heap)\n",
    "\n",
    "        if visited[v]:\n",
    "            continue\n",
    "\n",
    "        min_span_tree.append((u, v, weight))\n",
    "\n",
    "        min_cost += weight\n",
    "        visited[v] = True\n",
    "\n",
    "        for neighbour, weight in graph.graph[v]:\n",
    "            if not visited[neighbour]:\n",
    "                heapq.heappush(min_heap, (weight, v, neighbour))\n",
    "    \n",
    "    min_span_tree.pop(0)\n",
    "    return min_span_tree, min_cost"
   ]
  },
  {
   "cell_type": "code",
   "execution_count": 5,
   "metadata": {},
   "outputs": [],
   "source": [
    "# Kruskal's Algorithm\n",
    "def kruskal(graph):\n",
    "    min_span_tree = []\n",
    "    edges = []\n",
    "\n",
    "    for u in graph.graph:\n",
    "        for v, weight in graph.graph[u]:\n",
    "            edges.append((u, v, weight))\n",
    "\n",
    "    edges = sorted(edges, key=lambda edge: edge[2])\n",
    "\n",
    "    parent = {node: node for node in graph.graph}\n",
    "    rank = {node: 0 for node in graph.graph}\n",
    "    \n",
    "    while len(min_span_tree) < len(graph.graph) - 1:\n",
    "        u, v, weight = edges.pop(0)\n",
    "        if find_parent(parent, u) != find_parent(parent, v):\n",
    "            min_span_tree.append((u, v, weight))\n",
    "            union(parent, rank, u, v)\n",
    "\n",
    "    min_cost = sum(weight for _, _, weight in min_span_tree)\n",
    "    return min_span_tree, min_cost"
   ]
  },
  {
   "cell_type": "code",
   "execution_count": 6,
   "metadata": {},
   "outputs": [],
   "source": [
    "# Boruvka's Algorithm\n",
    "def boruvka(graph):\n",
    "    parent = {node: node for node in graph.graph}\n",
    "    rank = {node: 0 for node in graph.graph}\n",
    "\n",
    "    min_span_tree = []\n",
    "    num_trees = len(graph.graph)\n",
    "    mst_weight = 0\n",
    "\n",
    "    while num_trees > 1:\n",
    "        cheapest = {}\n",
    "\n",
    "        for u in graph.graph:\n",
    "            for v, weight in graph.graph[u]:\n",
    "                set1 = find_parent(parent, u)\n",
    "                set2 = find_parent(parent, v)\n",
    "\n",
    "                if set1 != set2:\n",
    "                    if set1 not in cheapest or weight < cheapest[set1][1]:\n",
    "                        cheapest[set1] = (v, weight)\n",
    "                    if set2 not in  cheapest or weight < cheapest[set1][1]:\n",
    "                        cheapest[set2] = (u, weight)\n",
    "        \n",
    "        for u, (v, weight) in cheapest.items():\n",
    "            set1 = find_parent(parent, u)\n",
    "            set2 = find_parent(parent, v)\n",
    "\n",
    "            if set1 != set2:\n",
    "                mst_weight += weight\n",
    "                union(parent, rank, set1, set2)\n",
    "                min_span_tree.append((u, v, weight))\n",
    "                num_trees -= 1\n",
    "    \n",
    "    return min_span_tree, mst_weight"
   ]
  },
  {
   "cell_type": "markdown",
   "metadata": {},
   "source": [
    "## Testing Each Algorithm"
   ]
  },
  {
   "cell_type": "code",
   "execution_count": 7,
   "metadata": {},
   "outputs": [],
   "source": [
    "graph = Graph()\n",
    "\n",
    "graph.add_edge('V1', 'V2', 6)\n",
    "graph.add_edge('V1', 'V7', 7)\n",
    "graph.add_edge('V1', 'V6', 8)\n",
    "graph.add_edge('V2', 'V7', 6)\n",
    "graph.add_edge('V2', 'V3', 6)\n",
    "graph.add_edge('V3', 'V7', 3)\n",
    "graph.add_edge('V3', 'V4', 2)\n",
    "graph.add_edge('V4', 'V7', 2)\n",
    "graph.add_edge('V4', 'V5', 3)\n",
    "graph.add_edge('V5', 'V7', 4)\n",
    "graph.add_edge('V5', 'V6', 1)\n",
    "graph.add_edge('V6', 'V7', 3)\n"
   ]
  },
  {
   "cell_type": "markdown",
   "metadata": {},
   "source": [
    "#### Running Prim's Algorithm"
   ]
  },
  {
   "cell_type": "code",
   "execution_count": 8,
   "metadata": {},
   "outputs": [
    {
     "name": "stdout",
     "output_type": "stream",
     "text": [
      "Minimum Span Tree:\n",
      "Source\tDestination\tWeight\n",
      "V1\tV2\t\t6\n",
      "V2\tV3\t\t6\n",
      "V3\tV4\t\t2\n",
      "V4\tV7\t\t2\n",
      "V4\tV5\t\t3\n",
      "V5\tV6\t\t1\n",
      "Minimum cost: 20\n"
     ]
    }
   ],
   "source": [
    "min_span_tree, minimum_cost = prim(graph, 'V1')\n",
    "\n",
    "print('Minimum Span Tree:')\n",
    "print('Source\\tDestination\\tWeight')\n",
    "for (u, v, weight) in min_span_tree:\n",
    "    print(f'{u}\\t{v}\\t\\t{weight}')\n",
    "    \n",
    "print(f'Minimum cost: {minimum_cost}')"
   ]
  },
  {
   "cell_type": "markdown",
   "metadata": {},
   "source": [
    "#### Running Kruskal's Algorithm"
   ]
  },
  {
   "cell_type": "code",
   "execution_count": 9,
   "metadata": {},
   "outputs": [
    {
     "name": "stdout",
     "output_type": "stream",
     "text": [
      "Minimum Span Tree:\n",
      "Source\tDestination\tWeight\n",
      "V6\tV5\t\t1\n",
      "V7\tV4\t\t2\n",
      "V3\tV4\t\t2\n",
      "V7\tV6\t\t3\n",
      "V1\tV2\t\t6\n",
      "V2\tV7\t\t6\n",
      "Minimum cost: 20\n"
     ]
    }
   ],
   "source": [
    "min_span_tree, minimum_cost = kruskal(graph)\n",
    "\n",
    "print('Minimum Span Tree:')\n",
    "print('Source\\tDestination\\tWeight')\n",
    "for (u, v, weight) in min_span_tree:\n",
    "    print(f'{u}\\t{v}\\t\\t{weight}')\n",
    "    \n",
    "print(f'Minimum cost: {minimum_cost}')"
   ]
  },
  {
   "cell_type": "markdown",
   "metadata": {},
   "source": [
    "#### Running Boruvka Algorithm"
   ]
  },
  {
   "cell_type": "code",
   "execution_count": 10,
   "metadata": {},
   "outputs": [
    {
     "name": "stdout",
     "output_type": "stream",
     "text": [
      "Minimum Span Tree:\n",
      "Source\tDestination\tWeight\n",
      "V1\tV2\t\t6\n",
      "V7\tV4\t\t2\n",
      "V6\tV5\t\t1\n",
      "V3\tV4\t\t2\n",
      "V1\tV7\t\t6\n",
      "V7\tV6\t\t3\n",
      "Minimum cost: 20\n"
     ]
    }
   ],
   "source": [
    "min_span_tree, minimum_cost = boruvka(graph)\n",
    "\n",
    "print('Minimum Span Tree:')\n",
    "print('Source\\tDestination\\tWeight')\n",
    "for (u, v, weight) in min_span_tree:\n",
    "    print(f'{u}\\t{v}\\t\\t{weight}')\n",
    "    \n",
    "print(f'Minimum cost: {minimum_cost}')"
   ]
  }
 ],
 "metadata": {
  "kernelspec": {
   "display_name": "Python 3",
   "language": "python",
   "name": "python3"
  },
  "language_info": {
   "codemirror_mode": {
    "name": "ipython",
    "version": 3
   },
   "file_extension": ".py",
   "mimetype": "text/x-python",
   "name": "python",
   "nbconvert_exporter": "python",
   "pygments_lexer": "ipython3",
   "version": "3.11.3"
  },
  "orig_nbformat": 4
 },
 "nbformat": 4,
 "nbformat_minor": 2
}
