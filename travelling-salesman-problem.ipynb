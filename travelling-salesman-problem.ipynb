{
 "cells": [
  {
   "cell_type": "markdown",
   "metadata": {},
   "source": [
    "## Importing Libraries"
   ]
  },
  {
   "cell_type": "code",
   "execution_count": 1,
   "metadata": {},
   "outputs": [],
   "source": [
    "from itertools import permutations"
   ]
  },
  {
   "cell_type": "markdown",
   "metadata": {},
   "source": [
    "## Graph Class"
   ]
  },
  {
   "cell_type": "code",
   "execution_count": 2,
   "metadata": {},
   "outputs": [],
   "source": [
    "class Graph:\n",
    "  def __init__(self):\n",
    "    self.graph = {}\n",
    "\n",
    "  def add_edge(self, u_node, v_node, weight): # Add edge using weighted adjacency list\n",
    "    if u_node not in self.graph:\n",
    "      self.graph[u_node] = {}\n",
    "    if v_node not in self.graph:\n",
    "      self.graph[v_node] = {}\n",
    "\n",
    "    self.graph[u_node][v_node] = weight\n",
    "    self.graph[v_node][u_node] = weight"
   ]
  },
  {
   "cell_type": "markdown",
   "metadata": {},
   "source": [
    "## Travelling Salesman Problem Algorithms"
   ]
  },
  {
   "cell_type": "markdown",
   "metadata": {},
   "source": [
    "## Testing Algorithm"
   ]
  },
  {
   "cell_type": "code",
   "execution_count": 3,
   "metadata": {},
   "outputs": [],
   "source": [
    "graph = Graph()\n",
    "\n",
    "graph.add_edge('u', 'x', 60)\n",
    "graph.add_edge('u', 'v', 51)\n",
    "graph.add_edge('u', 'y', 2)\n",
    "graph.add_edge('u', 'z', 35)\n",
    "graph.add_edge('u', 'w', 56)\n",
    "graph.add_edge('x', 'w', 70)\n",
    "graph.add_edge('x', 'z', 68)\n",
    "graph.add_edge('x', 'y', 61)\n",
    "graph.add_edge('x', 'v', 13)\n",
    "graph.add_edge('v', 'y', 51)\n",
    "graph.add_edge('v', 'z', 68)\n",
    "graph.add_edge('v', 'w', 78)\n",
    "graph.add_edge('y', 'z', 36)\n",
    "graph.add_edge('y', 'w', 57)\n",
    "graph.add_edge('z', 'w', 21)"
   ]
  },
  {
   "cell_type": "code",
   "execution_count": 4,
   "metadata": {},
   "outputs": [],
   "source": [
    "# Brute Force\n",
    "def brute_force(graph, start):\n",
    "    min_distance = float('inf')\n",
    "    vertex = [node for node in graph.graph if node != start]\n",
    "    best_path = None\n",
    "\n",
    "    for path in permutations(vertex):\n",
    "        current_distance = 0\n",
    "        current_vertex = start\n",
    "\n",
    "        for u in path:\n",
    "            current_distance += graph.graph[current_vertex][u]\n",
    "            current_vertex = u\n",
    "        \n",
    "        current_distance += graph.graph[current_vertex][start]\n",
    "\n",
    "        if current_distance < min_distance:\n",
    "            min_distance = current_distance\n",
    "            best_path = [start] + list(path)\n",
    "\n",
    "    return best_path, min_distance"
   ]
  },
  {
   "cell_type": "markdown",
   "metadata": {},
   "source": [
    "### Running Brute Force Algorithm"
   ]
  },
  {
   "cell_type": "code",
   "execution_count": 5,
   "metadata": {},
   "outputs": [
    {
     "name": "stdout",
     "output_type": "stream",
     "text": [
      "Shortest Path    : ['u', 'y', 'v', 'x', 'w', 'z']\n",
      "Shortest Distance: 192\n"
     ]
    }
   ],
   "source": [
    "(path, distance) = brute_force(graph, 'u')\n",
    "\n",
    "print('Shortest Path    :', path)\n",
    "print('Shortest Distance:', distance)"
   ]
  }
 ],
 "metadata": {
  "kernelspec": {
   "display_name": "Python 3",
   "language": "python",
   "name": "python3"
  },
  "language_info": {
   "codemirror_mode": {
    "name": "ipython",
    "version": 3
   },
   "file_extension": ".py",
   "mimetype": "text/x-python",
   "name": "python",
   "nbconvert_exporter": "python",
   "pygments_lexer": "ipython3",
   "version": "3.11.3"
  }
 },
 "nbformat": 4,
 "nbformat_minor": 2
}
