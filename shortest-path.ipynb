{
 "cells": [
  {
   "cell_type": "markdown",
   "metadata": {},
   "source": [
    "## Importing Used Libraries"
   ]
  },
  {
   "cell_type": "code",
   "execution_count": 2,
   "metadata": {},
   "outputs": [],
   "source": [
    "from collections import defaultdict\n",
    "import heapq"
   ]
  },
  {
   "cell_type": "markdown",
   "metadata": {},
   "source": [
    "## Graph Class"
   ]
  },
  {
   "cell_type": "code",
   "execution_count": 3,
   "metadata": {},
   "outputs": [],
   "source": [
    "class Graph:\n",
    "  def __init__(self):\n",
    "    self.graph = defaultdict(list) # Create empty dictionary that stores lists\n",
    "    self.heuristic = {}\n",
    "\n",
    "  def add_edge(self, u_node, v_node, weight): # Add edge using weighted adjacency list\n",
    "    self.graph[u_node] += [(v_node, weight)]\n",
    "    self.graph[v_node] += [(u_node, weight)]\n",
    "\n",
    "  def add_heuristic(self, node, value): # Add heuristic function value to a node\n",
    "    self.heuristic[node] = value"
   ]
  },
  {
   "cell_type": "markdown",
   "metadata": {},
   "source": [
    "## Shortest Path Algorithms"
   ]
  },
  {
   "cell_type": "code",
   "execution_count": 4,
   "metadata": {},
   "outputs": [],
   "source": [
    "# Dijkstra Algorithm\n",
    "def dijkstra(graph, start_node, goal):\n",
    "    distance = {start_node: 0}\n",
    "    heap_queue = [(distance[start_node], start_node)]\n",
    "    parent = {start_node: start_node} \n",
    "\n",
    "    for node in graph.graph:\n",
    "        if node != start_node:\n",
    "            distance[node] = float('inf')\n",
    "            heapq.heappush(heap_queue, (distance[node], node))\n",
    "    \n",
    "    while len(heap_queue) > 0:\n",
    "        current_node = heapq.heappop(heap_queue)[1]\n",
    "\n",
    "        for (neighbour_node, weight) in graph.graph[current_node]:\n",
    "            if neighbour_node in [arr[1] for arr in heap_queue] \\\n",
    "                and distance[current_node] != float('inf') \\\n",
    "                and weight + distance[current_node] < distance[neighbour_node]:\n",
    "                \n",
    "                heap_queue = [node for node in heap_queue if node[1] != neighbour_node]\n",
    "                \n",
    "                distance[neighbour_node] = weight + distance[current_node]\n",
    "                parent[neighbour_node] = current_node\n",
    "\n",
    "                heapq.heappush(heap_queue, (distance[neighbour_node], neighbour_node))\n",
    "    \n",
    "    path = []\n",
    "    while parent[goal] != goal:\n",
    "        path.append(goal)\n",
    "        goal = parent[goal]\n",
    "    \n",
    "    path.append(start_node)\n",
    "    path.reverse()\n",
    "    return path, distance"
   ]
  },
  {
   "cell_type": "code",
   "execution_count": 5,
   "metadata": {},
   "outputs": [],
   "source": [
    "# Bellman-Ford Algorithm\n",
    "def bellman_ford(graph, start_node, goal):\n",
    "    distance = {node: float('inf') for node in graph.graph}\n",
    "    distance[start_node] = 0\n",
    "\n",
    "    parent = {start_node: start_node}\n",
    "\n",
    "    for _ in range(len(graph.graph) - 1):\n",
    "        for current_node in graph.graph:\n",
    "            for neighbour_node, weight in graph.graph[current_node]:\n",
    "                if distance[current_node] != float('inf') and distance[current_node] + weight < distance[neighbour_node]:\n",
    "                    parent[neighbour_node] = current_node\n",
    "                    distance[neighbour_node] = distance[current_node] + weight\n",
    "                \n",
    "    for current_node in graph.graph:\n",
    "        for neighbour_node, weight in graph.graph[current_node]:\n",
    "            if distance[current_node] != float('inf') and distance[current_node] + weight < distance[neighbour_node]:\n",
    "                return None, None\n",
    "            \n",
    "    path = []\n",
    "    while parent[goal] != goal:\n",
    "        path.append(goal)\n",
    "        goal = parent[goal]\n",
    "    \n",
    "    path.append(start_node)\n",
    "    path.reverse()\n",
    "\n",
    "    return path, distance"
   ]
  },
  {
   "cell_type": "code",
   "execution_count": 6,
   "metadata": {},
   "outputs": [],
   "source": [
    "# A* Search Algorithm\n",
    "def a_star(graph, start_node, goal):\n",
    "    open_set = set([start_node]) # To store nodes to look next\n",
    "    closed_set = set() # To store nodes visited\n",
    "    heap_queue = [(0, start_node)]\n",
    "\n",
    "    g = {start_node: 0} # Store cumulative distance of a node\n",
    "    parent = {start_node: start_node} # Store parent of a node\n",
    "\n",
    "    while open_set:\n",
    "      current_node = heapq.heappop(heap_queue)[1] # Pop node with smallest f(x)\n",
    "\n",
    "      if current_node == goal:\n",
    "        path = []\n",
    "        distance = g[current_node]\n",
    "\n",
    "        while parent[current_node] != current_node: # Retrace path using parent dictionary\n",
    "          path.append(current_node)\n",
    "          current_node = parent[current_node]\n",
    "\n",
    "        path.append(start_node)\n",
    "        path.reverse()\n",
    "        return (path, distance)\n",
    "      \n",
    "      for (neighbour_node, weight) in graph.graph[current_node]: # Iterate all neighbours of current node\n",
    "        if neighbour_node not in open_set and neighbour_node not in closed_set:\n",
    "          open_set.add(neighbour_node)\n",
    "          g[neighbour_node] = g[current_node] + weight # Set cumulative distance of neighbour node\n",
    "          parent[neighbour_node] = current_node        # Set parent of neighbour node to current node\n",
    "          f = graph.heuristic[neighbour_node] + g[neighbour_node] # Calcualate f function\n",
    "          heapq.heappush(heap_queue, (f, neighbour_node)) # Push to heap queue\n",
    "        \n",
    "        elif g[neighbour_node] > g[current_node] + weight: # If neighbour has shorter distance through this path\n",
    "          g[neighbour_node] = g[current_node] + weight\n",
    "          parent[neighbour_node] = current_node\n",
    "          heapq.heappush(heap_queue, (graph.heuristic[neighbour_node] + g[neighbour_node], neighbour_node))\n",
    "\n",
    "          if neighbour_node in closed_set: # Readd neighbour node to open set\n",
    "            closed_set.remove(neighbour_node)\n",
    "            open_set.add(neighbour_node)\n",
    "      \n",
    "      open_set.remove(current_node)\n",
    "      closed_set.add(current_node)"
   ]
  },
  {
   "cell_type": "code",
   "execution_count": 7,
   "metadata": {},
   "outputs": [],
   "source": [
    "# Floyd Warshall Algorithm\n",
    "def floyd_warshall(graph, start_node, goal):\n",
    "    distance = {node_u: {node_v: float('inf') for node_v in graph.graph} for node_u in graph.graph}\n",
    "\n",
    "    previous = {node_u: {node_v: None for node_v in graph.graph} for node_u in graph.graph}\n",
    "    for node in graph.graph:\n",
    "        distance[node][node] = 0\n",
    "    \n",
    "    for node, neighbors in graph.graph.items():\n",
    "        for neighbor, weight in neighbors:\n",
    "            distance[node][neighbor] = weight\n",
    "            previous[node][neighbor] = node\n",
    "\n",
    "    for k in graph.graph:\n",
    "        for i in graph.graph:\n",
    "            for j in graph.graph:\n",
    "                if distance[i][k] + distance[k][j] < distance[i][j]:\n",
    "                    distance[i][j] = distance[i][k] + distance[k][j]\n",
    "                    previous[i][j] = previous[k][j]\n",
    "\n",
    "    path = []\n",
    "    while goal != start_node:\n",
    "        if goal is None:\n",
    "            return None\n",
    "        path.append(goal)\n",
    "        goal = previous[start_node][goal]\n",
    "    path.append(start_node)\n",
    "    path.reverse()\n",
    "\n",
    "    return path, distance"
   ]
  },
  {
   "cell_type": "code",
   "execution_count": 8,
   "metadata": {},
   "outputs": [],
   "source": [
    "# Johnson's Algorithm\n",
    "def johnson(graph, start_node, goal):\n",
    "    graph.graph['S'] = [(node, 0) for node in graph.graph]\n",
    "\n",
    "    _, distance = bellman_ford(graph, 'S', 'V1')\n",
    "\n",
    "    if distance is None:\n",
    "        return None, None\n",
    "    \n",
    "    for node in graph.graph:\n",
    "        graph.graph[node] = [(neighbor, weight + distance[node] - distance[neighbor]) for neighbor, weight in graph.graph[node]]\n",
    "    \n",
    "    graph.graph.pop('S')\n",
    "\n",
    "    return dijkstra(graph, start_node, goal)"
   ]
  },
  {
   "cell_type": "markdown",
   "metadata": {},
   "source": [
    "## Testing Each Algorithm"
   ]
  },
  {
   "cell_type": "code",
   "execution_count": 9,
   "metadata": {},
   "outputs": [],
   "source": [
    "# Initializing and adding edges to graph\n",
    "graph = Graph()\n",
    "\n",
    "graph.add_edge('V1','V2', weight=2)\n",
    "graph.add_edge('V1','V3', weight=8)\n",
    "graph.add_edge('V1','V4', weight=1)\n",
    "\n",
    "graph.add_edge('V2','V3', weight=6)\n",
    "graph.add_edge('V2','V5', weight=1)\n",
    "\n",
    "graph.add_edge('V3','V4', weight=7)\n",
    "graph.add_edge('V3','V5', weight=5)\n",
    "graph.add_edge('V3','V6', weight=1)\n",
    "graph.add_edge('V3','V7', weight=2)\n",
    "\n",
    "graph.add_edge('V4','V7', weight=9)\n",
    "\n",
    "graph.add_edge('V5','V6', weight=3)\n",
    "graph.add_edge('V5','V8', weight=2)\n",
    "graph.add_edge('V5','V9', weight=9)\n",
    "\n",
    "graph.add_edge('V6','V7', weight=4)\n",
    "graph.add_edge('V6','V9', weight=6)\n",
    "\n",
    "graph.add_edge('V7','V9', weight=3)\n",
    "graph.add_edge('V7','V10', weight=1)\n",
    "\n",
    "graph.add_edge('V8','V9', weight=7)\n",
    "graph.add_edge('V8','V11', weight=9)\n",
    "\n",
    "graph.add_edge('V9','V10', weight=1)\n",
    "graph.add_edge('V9','V11', weight=2)\n",
    "\n",
    "graph.add_edge('V10','V11', weight=4)\n",
    "\n",
    "\n",
    "# Adding heuristic values to graph\n",
    "graph.add_heuristic('V1', 10)\n",
    "graph.add_heuristic('V2', 9)\n",
    "graph.add_heuristic('V3', 8)\n",
    "graph.add_heuristic('V4', 9)\n",
    "graph.add_heuristic('V5', 7)\n",
    "graph.add_heuristic('V6', 6)\n",
    "graph.add_heuristic('V7', 7)\n",
    "graph.add_heuristic('V8', 5)\n",
    "graph.add_heuristic('V9', 3)\n",
    "graph.add_heuristic('V10', 5)\n",
    "graph.add_heuristic('V11', 0)"
   ]
  },
  {
   "cell_type": "markdown",
   "metadata": {},
   "source": [
    "#### Running Dijkstra Algorithm"
   ]
  },
  {
   "cell_type": "code",
   "execution_count": 10,
   "metadata": {},
   "outputs": [
    {
     "name": "stdout",
     "output_type": "stream",
     "text": [
      "Shortest Path    : ['V1', 'V2', 'V5', 'V6', 'V3', 'V7', 'V10', 'V9', 'V11']\n",
      "Shortest Distance: 13\n"
     ]
    }
   ],
   "source": [
    "(lintasan, jarak) = dijkstra(graph, 'V1', 'V11')\n",
    "\n",
    "print('Shortest Path    :', lintasan)\n",
    "print('Shortest Distance:', jarak['V11'])"
   ]
  },
  {
   "cell_type": "markdown",
   "metadata": {},
   "source": [
    "#### Running Bellman-Ford Algorithm"
   ]
  },
  {
   "cell_type": "code",
   "execution_count": 11,
   "metadata": {},
   "outputs": [
    {
     "name": "stdout",
     "output_type": "stream",
     "text": [
      "Shortest Path    : ['V1', 'V2', 'V5', 'V6', 'V3', 'V7', 'V10', 'V9', 'V11']\n",
      "Shortest Distance: 13\n"
     ]
    }
   ],
   "source": [
    "(lintasan, jarak) = bellman_ford(graph, 'V1', 'V11')\n",
    "\n",
    "print('Shortest Path    :', lintasan)\n",
    "print('Shortest Distance:', jarak['V11'])"
   ]
  },
  {
   "cell_type": "markdown",
   "metadata": {},
   "source": [
    "#### Running A* Search Algorithm"
   ]
  },
  {
   "cell_type": "code",
   "execution_count": 12,
   "metadata": {},
   "outputs": [
    {
     "name": "stdout",
     "output_type": "stream",
     "text": [
      "Shortest Path    : ['V1', 'V2', 'V5', 'V8', 'V11']\n",
      "Shortest Distance: 14\n"
     ]
    }
   ],
   "source": [
    "(lintasan, jarak) = a_star(graph, 'V1', 'V11')\n",
    "\n",
    "print('Shortest Path    :', lintasan)\n",
    "print('Shortest Distance:', jarak)"
   ]
  },
  {
   "cell_type": "markdown",
   "metadata": {},
   "source": [
    "#### Running Floyd Warshall"
   ]
  },
  {
   "cell_type": "code",
   "execution_count": 13,
   "metadata": {},
   "outputs": [
    {
     "name": "stdout",
     "output_type": "stream",
     "text": [
      "Shortest Path    : ['V1', 'V2', 'V5', 'V6', 'V3', 'V7', 'V10', 'V9', 'V11']\n",
      "Shortest Distance: 13\n"
     ]
    }
   ],
   "source": [
    "(lintasan, jarak) = floyd_warshall(graph, 'V1', 'V11')\n",
    "\n",
    "print('Shortest Path    :', lintasan)\n",
    "print('Shortest Distance:', jarak['V1']['V11'])\n"
   ]
  },
  {
   "cell_type": "markdown",
   "metadata": {},
   "source": [
    "#### Running Johnson's Algorithm"
   ]
  },
  {
   "cell_type": "code",
   "execution_count": 14,
   "metadata": {},
   "outputs": [
    {
     "name": "stdout",
     "output_type": "stream",
     "text": [
      "Shortest Path    : ['V1', 'V2', 'V5', 'V6', 'V3', 'V7', 'V10', 'V9', 'V11']\n",
      "Shortest Distance: 13\n"
     ]
    }
   ],
   "source": [
    "(lintasan, jarak) = johnson(graph, 'V1', 'V11')\n",
    "\n",
    "print('Shortest Path    :', lintasan)\n",
    "print('Shortest Distance:', jarak['V11'])\n"
   ]
  }
 ],
 "metadata": {
  "kernelspec": {
   "display_name": "Python 3",
   "language": "python",
   "name": "python3"
  },
  "language_info": {
   "codemirror_mode": {
    "name": "ipython",
    "version": 3
   },
   "file_extension": ".py",
   "mimetype": "text/x-python",
   "name": "python",
   "nbconvert_exporter": "python",
   "pygments_lexer": "ipython3",
   "version": "3.11.3"
  },
  "orig_nbformat": 4
 },
 "nbformat": 4,
 "nbformat_minor": 2
}
